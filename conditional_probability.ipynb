{
 "cells": [
  {
   "cell_type": "code",
   "execution_count": 5,
   "metadata": {
    "collapsed": false
   },
   "outputs": [],
   "source": [
    "import numpy as np\n",
    "\n",
    "np.random.seed(0)\n",
    "\n",
    "totals = {20:0, 30:0, 40:0, 50:0, 60:0, 70:0}\n",
    "purchases = {20:0, 30:0, 40:0, 50:0, 60:0, 70:0}\n",
    "totalpurchases = 0\n",
    "for _ in range(100000):\n",
    "    agedecade = np.random.choice([20, 30, 40, 50, 60, 70])\n",
    "    purchaseprobability = float(agedecade) / 100.0\n",
    "    totals[agedecade] +=1\n",
    "    if (np.random.random() < purchaseprobability ):\n",
    "        totalpurchases +=1\n",
    "        purchases[agedecade] +=1\n"
   ]
  },
  {
   "cell_type": "code",
   "execution_count": 6,
   "metadata": {
    "collapsed": false
   },
   "outputs": [
    {
     "data": {
      "text/plain": [
       "{20: 16576, 30: 16619, 40: 16632, 50: 16805, 60: 16664, 70: 16704}"
      ]
     },
     "execution_count": 6,
     "metadata": {},
     "output_type": "execute_result"
    }
   ],
   "source": [
    "totals"
   ]
  },
  {
   "cell_type": "code",
   "execution_count": 7,
   "metadata": {
    "collapsed": false
   },
   "outputs": [
    {
     "data": {
      "text/plain": [
       "{20: 3392, 30: 4974, 40: 6670, 50: 8319, 60: 9944, 70: 11713}"
      ]
     },
     "execution_count": 7,
     "metadata": {},
     "output_type": "execute_result"
    }
   ],
   "source": [
    "purchases"
   ]
  },
  {
   "cell_type": "code",
   "execution_count": 8,
   "metadata": {
    "collapsed": false
   },
   "outputs": [
    {
     "data": {
      "text/plain": [
       "45012"
      ]
     },
     "execution_count": 8,
     "metadata": {},
     "output_type": "execute_result"
    }
   ],
   "source": [
    "totalpurchases"
   ]
  },
  {
   "cell_type": "code",
   "execution_count": 54,
   "metadata": {
    "collapsed": false
   },
   "outputs": [
    {
     "name": "stdout",
     "output_type": "stream",
     "text": [
      "P(Purchases | 30's)  0.29929598652145134\n"
     ]
    }
   ],
   "source": [
    "'''conditional probabilty example: here we compute P(E|F) where E is the purchase and F is \"you're in your 30's\"\n",
    "the probability of someone in their 30's buying something is just the probability of how many 30 year old bought\n",
    "something'''\n",
    "\n",
    "PEF = float(purchases[30])/float(totals[30])\n",
    "print(\"P(Purchases | 30's) \", PEF)"
   ]
  },
  {
   "cell_type": "code",
   "execution_count": 57,
   "metadata": {
    "collapsed": false
   },
   "outputs": [
    {
     "name": "stdout",
     "output_type": "stream",
     "text": [
      "P 30's 0.16619\n"
     ]
    }
   ],
   "source": [
    "#PF probabiloty of being 30 overall\n",
    "PF = float(totals[30])/100000.0\n",
    "print(\"P 30's\", PF)"
   ]
  },
  {
   "cell_type": "code",
   "execution_count": 59,
   "metadata": {
    "collapsed": false
   },
   "outputs": [
    {
     "name": "stdout",
     "output_type": "stream",
     "text": [
      "P of purchasing 0.45012\n"
     ]
    }
   ],
   "source": [
    "#PE overall probability of buying something regardless of age\n",
    "\n",
    "PE = float(totalpurchases)/100000.0\n",
    "print(\"P of purchasing\", PE)"
   ]
  },
  {
   "cell_type": "code",
   "execution_count": 73,
   "metadata": {
    "collapsed": true
   },
   "outputs": [],
   "source": [
    "#example test\n",
    "\n",
    "np.random.seed(0)\n",
    "\n",
    "totals = {20:0, 30:0, 40:0, 50:0, 60:0, 70:0}\n",
    "purchases = {20:0, 30:0, 40:0, 50:0, 60:0, 70:0}\n",
    "totalpurchases = 0\n",
    "for _ in range(100000):\n",
    "    agedecade = np.random.choice([20, 30, 40, 50, 60, 70])\n",
    "    totals[agedecade] +=1\n",
    "    totalpurchases +=1\n",
    "    agedecade = np.random.choice([20, 30, 40, 50, 60, 70])\n",
    "    purchases[agedecade] +=1"
   ]
  },
  {
   "cell_type": "code",
   "execution_count": 74,
   "metadata": {
    "collapsed": false
   },
   "outputs": [
    {
     "data": {
      "text/plain": [
       "{20: 16538, 30: 16740, 40: 16547, 50: 16836, 60: 16652, 70: 16687}"
      ]
     },
     "execution_count": 74,
     "metadata": {},
     "output_type": "execute_result"
    }
   ],
   "source": [
    "totals"
   ]
  },
  {
   "cell_type": "code",
   "execution_count": 75,
   "metadata": {
    "collapsed": false
   },
   "outputs": [
    {
     "data": {
      "text/plain": [
       "{20: 16531, 30: 16585, 40: 16617, 50: 16762, 60: 16812, 70: 16693}"
      ]
     },
     "execution_count": 75,
     "metadata": {},
     "output_type": "execute_result"
    }
   ],
   "source": [
    "purchases"
   ]
  },
  {
   "cell_type": "code",
   "execution_count": 76,
   "metadata": {
    "collapsed": false
   },
   "outputs": [
    {
     "data": {
      "text/plain": [
       "100000"
      ]
     },
     "execution_count": 76,
     "metadata": {},
     "output_type": "execute_result"
    }
   ],
   "source": [
    "totalpurchases"
   ]
  },
  {
   "cell_type": "code",
   "execution_count": 77,
   "metadata": {
    "collapsed": false
   },
   "outputs": [
    {
     "name": "stdout",
     "output_type": "stream",
     "text": [
      "P(Purchases | 30's)  0.9907407407407407\n"
     ]
    }
   ],
   "source": [
    "PEF = float(purchases[30])/float(totals[30])\n",
    "print(\"P(Purchases | 30's) \", PEF)\n"
   ]
  },
  {
   "cell_type": "code",
   "execution_count": 78,
   "metadata": {
    "collapsed": false
   },
   "outputs": [
    {
     "name": "stdout",
     "output_type": "stream",
     "text": [
      "P of purchasing 1.0\n"
     ]
    }
   ],
   "source": [
    "PE = float(totalpurchases)/100000.0\n",
    "print(\"P of purchasing\", PE)"
   ]
  },
  {
   "cell_type": "code",
   "execution_count": null,
   "metadata": {
    "collapsed": true
   },
   "outputs": [],
   "source": []
  }
 ],
 "metadata": {
  "kernelspec": {
   "display_name": "Python 3",
   "language": "python",
   "name": "python3"
  },
  "language_info": {
   "codemirror_mode": {
    "name": "ipython",
    "version": 3
   },
   "file_extension": ".py",
   "mimetype": "text/x-python",
   "name": "python",
   "nbconvert_exporter": "python",
   "pygments_lexer": "ipython3",
   "version": "3.5.2"
  }
 },
 "nbformat": 4,
 "nbformat_minor": 2
}
