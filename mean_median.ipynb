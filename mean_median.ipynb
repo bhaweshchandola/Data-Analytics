{
 "cells": [
  {
   "cell_type": "code",
   "execution_count": 18,
   "metadata": {
    "collapsed": false
   },
   "outputs": [
    {
     "data": {
      "text/plain": [
       "26890.050451636511"
      ]
     },
     "execution_count": 18,
     "metadata": {},
     "output_type": "execute_result"
    }
   ],
   "source": [
    "%matplotlib inline\n",
    "import numpy as np\n",
    "import matplotlib.pyplot as plt\n",
    "\n",
    "incomes = np.random.normal(27000, 15000, 10000) #data centered around 27000 with 15000 as standard deviation and 10000 data points\n",
    "np.mean(incomes)"
   ]
  },
  {
   "cell_type": "code",
   "execution_count": 19,
   "metadata": {
    "collapsed": false
   },
   "outputs": [
    {
     "data": {
      "image/png": "[encoded data removed]",
      "text/plain": [
       "<matplotlib.figure.Figure at 0x7fb685d8c978>"
      ]
     },
     "metadata": {},
     "output_type": "display_data"
    }
   ],
   "source": [
    "\n",
    "\n",
    "plt.hist(incomes, 50) #grouped into batch of 50\n",
    "plt.show()"
   ]
  },
  {
   "cell_type": "code",
   "execution_count": 20,
   "metadata": {
    "collapsed": false
   },
   "outputs": [
    {
     "data": {
      "text/plain": [
       "26925.756389869064"
      ]
     },
     "execution_count": 20,
     "metadata": {},
     "output_type": "execute_result"
    }
   ],
   "source": [
    "np.median(incomes)"
   ]
  },
  {
   "cell_type": "code",
   "execution_count": 21,
   "metadata": {
    "collapsed": false
   },
   "outputs": [],
   "source": [
    "incomes = np.append(incomes, [10000000000000000000]) #adding putlier to the data to see the difference in output of mean and median"
   ]
  },
  {
   "cell_type": "code",
   "execution_count": 22,
   "metadata": {
    "collapsed": false
   },
   "outputs": [
    {
     "data": {
      "text/plain": [
       "26925.789656829878"
      ]
     },
     "execution_count": 22,
     "metadata": {},
     "output_type": "execute_result"
    }
   ],
   "source": [
    "np.median(incomes)"
   ]
  },
  {
   "cell_type": "code",
   "execution_count": 23,
   "metadata": {
    "collapsed": false
   },
   "outputs": [
    {
     "data": {
      "text/plain": [
       "999900010025887.5"
      ]
     },
     "execution_count": 23,
     "metadata": {},
     "output_type": "execute_result"
    }
   ],
   "source": [
    "np.mean(incomes)"
   ]
  },
  {
   "cell_type": "code",
   "execution_count": 26,
   "metadata": {
    "collapsed": false
   },
   "outputs": [
    {
     "data": {
      "text/plain": [
       "array([33, 82, 46, 56, 66, 55, 77, 75, 82, 22, 43, 78, 87, 50, 36, 53, 80,\n",
       "       29, 85, 35, 32, 57, 33, 44, 60, 69, 81, 37, 42, 50, 43, 20, 61, 45,\n",
       "       67, 60, 65, 51, 51, 39, 34, 46, 56, 58, 74, 82, 77, 82, 32, 53, 69,\n",
       "       63, 45, 71, 78, 76, 47, 41, 66, 83, 51, 52, 77, 68, 31, 78, 36, 39,\n",
       "       50, 64, 80, 80, 55, 72, 85, 31, 80, 88, 50, 50, 43, 43, 63, 81, 24,\n",
       "       80, 36, 75, 20, 81, 51, 56, 50, 25, 61, 53, 23, 21, 47, 27, 34, 20,\n",
       "       62, 41, 48, 87, 78, 83, 30, 47, 46, 53, 63, 52, 56, 86, 18, 84, 35,\n",
       "       22, 69, 44, 84, 59, 25, 36, 54, 81, 83, 54, 32, 54, 30, 29, 67, 77,\n",
       "       70, 57, 45, 18, 22, 66, 46, 79, 46, 51, 41, 82, 33, 29, 72, 59, 65,\n",
       "       41, 38, 21, 82, 67, 59, 54, 49, 83, 83, 22, 37, 71, 40, 73, 71, 45,\n",
       "       53, 87, 51, 26, 63, 22, 73, 29, 54, 40, 30, 24, 47, 61, 77, 18, 41,\n",
       "       19, 76, 41, 65, 83, 60, 55, 73, 59, 21, 55, 77, 18, 24, 89, 22, 44,\n",
       "       36, 82, 55, 56, 65, 76, 33, 51, 80, 75, 72, 29, 72, 27, 19, 48, 24,\n",
       "       23, 74, 64, 38, 43, 62, 45, 83, 81, 87, 21, 58, 70, 88, 71, 65, 32,\n",
       "       61, 27, 42, 46, 88, 83, 34, 52, 42, 64, 58, 74, 72, 84, 80, 40, 40,\n",
       "       82, 18, 45, 89, 68, 38, 50, 80, 30, 55, 28, 34, 45, 21, 61, 27, 21,\n",
       "       37, 36, 48, 32, 52, 72, 38, 77, 62, 61, 58, 52, 35, 21, 49, 49, 33,\n",
       "       85, 53, 67, 53, 61, 56, 25, 23, 61, 78, 80, 41, 42, 41, 89, 46, 80,\n",
       "       63, 38, 70, 52, 87, 24, 39, 46, 20, 35, 63, 83, 36, 33, 64, 69, 43,\n",
       "       63, 66, 73, 44, 76, 81, 65, 57, 20, 62, 72, 81, 36, 48, 60, 45, 75,\n",
       "       39, 29, 31, 29, 77, 88, 55, 51, 88, 27, 71, 55, 47, 49, 23, 79, 78,\n",
       "       38, 80, 87, 79, 77, 24, 89, 49, 50, 29, 78, 49, 26, 46, 86, 37, 68,\n",
       "       79, 64, 26, 75, 47, 65, 84, 53, 35, 82, 24, 80, 84, 49, 30, 85, 34,\n",
       "       25, 39, 61, 25, 74, 82, 53, 50, 84, 47, 88, 28, 32, 83, 78, 21, 73,\n",
       "       72, 30, 18, 65, 46, 63, 26, 79, 30, 87, 84, 21, 75, 50, 28, 77, 46,\n",
       "       58, 33, 32, 53, 52, 35, 59, 30, 22, 82, 58, 33, 27, 67, 77, 61, 52,\n",
       "       57, 33, 20, 59, 22, 24, 75, 21, 84, 65, 44, 40, 81, 81, 57, 26, 54,\n",
       "       29, 19, 33, 44, 54, 38, 47, 30, 60, 52, 65, 20, 83, 83, 46, 33, 80,\n",
       "       65, 78, 30, 77, 42, 67, 72, 89, 75, 48, 68, 60, 52, 55, 77, 75, 39,\n",
       "       64, 85, 60, 28, 42, 66, 48])"
      ]
     },
     "execution_count": 26,
     "metadata": {},
     "output_type": "execute_result"
    }
   ],
   "source": [
    "#mode\n",
    "\n",
    "ages = np.random.randint(18, high=90, size = 500)\n",
    "ages"
   ]
  },
  {
   "cell_type": "code",
   "execution_count": 27,
   "metadata": {
    "collapsed": false
   },
   "outputs": [
    {
     "data": {
      "text/plain": [
       "ModeResult(mode=array([77]), count=array([13]))"
      ]
     },
     "execution_count": 27,
     "metadata": {},
     "output_type": "execute_result"
    }
   ],
   "source": [
    "from scipy import stats\n",
    "stats.mode(ages)"
   ]
  },
  {
   "cell_type": "code",
   "execution_count": null,
   "metadata": {
    "collapsed": true
   },
   "outputs": [],
   "source": []
  }
 ],
 "metadata": {
  "kernelspec": {
   "display_name": "Python 3",
   "language": "python",
   "name": "python3"
  },
  "language_info": {
   "codemirror_mode": {
    "name": "ipython",
    "version": 3
   },
   "file_extension": ".py",
   "mimetype": "text/x-python",
   "name": "python",
   "nbconvert_exporter": "python",
   "pygments_lexer": "ipython3",
   "version": "3.5.2"
  }
 },
 "nbformat": 4,
 "nbformat_minor": 2
}
